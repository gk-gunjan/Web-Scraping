{
 "cells": [
  {
   "cell_type": "code",
   "execution_count": 4,
   "metadata": {},
   "outputs": [],
   "source": [
    "from selenium import webdriver\n",
    "driver = webdriver.Chrome(executable_path='/home/gk-gunjan/Desktop/chromedriver')\n",
    "driver.get('https://twitter.com/stackOverheards')"
   ]
  },
  {
   "cell_type": "code",
   "execution_count": 6,
   "metadata": {},
   "outputs": [],
   "source": [
    "driver.execute_script('window.scrollBy(0,1000);')"
   ]
  },
  {
   "cell_type": "code",
   "execution_count": 8,
   "metadata": {},
   "outputs": [],
   "source": [
    "import time\n",
    "for i in range(5):\n",
    "    driver.execute_script('window.scrollBy(0,1000);')\n",
    "    time.sleep(3)"
   ]
  },
  {
   "cell_type": "markdown",
   "metadata": {},
   "source": [
    "# Infinite Scroller"
   ]
  },
  {
   "cell_type": "code",
   "execution_count": 17,
   "metadata": {},
   "outputs": [],
   "source": [
    "from selenium import webdriver\n",
    "driver = webdriver.Chrome(executable_path='/home/gk-gunjan/Desktop/chromedriver')\n",
    "driver.get('https://twitter.com/yadavtejashwi')"
   ]
  },
  {
   "cell_type": "code",
   "execution_count": 18,
   "metadata": {},
   "outputs": [
    {
     "name": "stdout",
     "output_type": "stream",
     "text": [
      "5762 12573 6811\n",
      "12573 19419 6846\n",
      "19419 26160 6741\n",
      "26160 32609 6449\n",
      "32609 38601 5992\n",
      "38601 46919 8318\n",
      "46919 54349 7430\n",
      "54349 60914 6565\n",
      "60914 68415 7501\n",
      "68415 74667 6252\n",
      "74667 82000 7333\n",
      "82000 89557 7557\n",
      "89557 96871 7314\n",
      "96871 103128 6257\n",
      "103128 110343 7215\n",
      "110343 115949 5606\n",
      "115949 124913 8964\n",
      "124913 134117 9204\n",
      "134117 141263 7146\n",
      "141263 148295 7032\n",
      "148295 156542 8247\n",
      "156542 163568 7026\n",
      "163568 167600 4032\n",
      "167600 167600 0\n"
     ]
    }
   ],
   "source": [
    "import time\n",
    "curr_height =driver.execute_script('return document.body.scrollHeight;')\n",
    "while True:\n",
    "    driver.execute_script('window.scrollTo(0,arguments[0]);',curr_height)\n",
    "    time.sleep(5)\n",
    "    new_height=driver.execute_script('return document.body.scrollHeight;')\n",
    "    print(curr_height ,new_height ,new_height-curr_height )\n",
    "    if new_height ==curr_height:\n",
    "        break\n",
    "    curr_height=new_height"
   ]
  },
  {
   "cell_type": "code",
   "execution_count": null,
   "metadata": {},
   "outputs": [],
   "source": []
  }
 ],
 "metadata": {
  "kernelspec": {
   "display_name": "Python 3",
   "language": "python",
   "name": "python3"
  },
  "language_info": {
   "codemirror_mode": {
    "name": "ipython",
    "version": 3
   },
   "file_extension": ".py",
   "mimetype": "text/x-python",
   "name": "python",
   "nbconvert_exporter": "python",
   "pygments_lexer": "ipython3",
   "version": "3.8.5"
  }
 },
 "nbformat": 4,
 "nbformat_minor": 4
}
