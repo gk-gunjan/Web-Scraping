{
 "cells": [
  {
   "cell_type": "markdown",
   "metadata": {},
   "source": [
    "### 1"
   ]
  },
  {
   "cell_type": "code",
   "execution_count": 1,
   "metadata": {},
   "outputs": [],
   "source": [
    "from selenium import webdriver\n",
    "from selenium.webdriver.support.ui import WebDriverWait\n",
    "from selenium.webdriver.common.keys import Keys\n",
    "from selenium.webdriver.support import expected_conditions as EC\n",
    "from selenium.webdriver.common.by import By\n",
    "import time\n",
    "from bs4 import BeautifulSoup as soup"
   ]
  },
  {
   "cell_type": "code",
   "execution_count": 2,
   "metadata": {},
   "outputs": [],
   "source": [
    "# this is tested on Firefox or you can use \"webdriver.Chrome()\"\n",
    "browser = webdriver.Chrome(executable_path='/home/gk-gunjan/Desktop/chromedriver')\n",
    "browser.get('https://www.instagram.com/')"
   ]
  },
  {
   "cell_type": "code",
   "execution_count": 3,
   "metadata": {},
   "outputs": [],
   "source": [
    "user=browser.find_element_by_name('username')\n",
    "user.send_keys('gunjan.photogallery')\n",
    "password=browser.find_element_by_name('password')\n",
    "password.send_keys('Najnug.28')\n",
    "login=browser.find_element_by_xpath('//button[@type=\"submit\"]/div')\n",
    "login.submit()\n",
    "browser.maximize_window()"
   ]
  },
  {
   "cell_type": "code",
   "execution_count": 4,
   "metadata": {},
   "outputs": [],
   "source": [
    "notificatn_off=browser.find_element_by_class_name(\"cmbtv\")\n",
    "notificatn_off.click()\n",
    "time.sleep(1)\n",
    "notificatn_off=browser.find_element_by_class_name(\"HoLwm\")\n",
    "notificatn_off.click()"
   ]
  },
  {
   "cell_type": "code",
   "execution_count": 20,
   "metadata": {},
   "outputs": [],
   "source": [
    "# for searching and opening the file\n",
    "def search_and_open(profile):\n",
    "    search=browser.find_element_by_xpath('//input[contains(@class,\"XTCLo\")]')\n",
    "    search.clear()\n",
    "    search.send_keys(profile)\n",
    "    \n",
    "    wait = WebDriverWait(driver,18)\n",
    "    open_page= wait.until(EC.presence_of_element_located((By.CLASS_NAME,\"-qQT3\"))) \n",
    "    open_page.click()\n",
    "    \n",
    "def find_no_followers(profile):\n",
    "    search_and_open(profile)\n",
    "    wait=WebDriverWait(browser,10)\n",
    "    followers=wait.until(EC.presence_of_element_located(BY.CLASS_NAME='-nal3'))\n",
    "    data=broswer.page_source\n",
    "    html_data=soup(data,'html.parser')\n",
    "    f=html_data.find_all(class_='-nal3')\n",
    "    num_f=f[1].span['title']\n",
    "    \n",
    "    return num_f   "
   ]
  },
  {
   "cell_type": "markdown",
   "metadata": {},
   "source": [
    "# 1.1"
   ]
  },
  {
   "cell_type": "code",
   "execution_count": null,
   "metadata": {},
   "outputs": [],
   "source": []
  }
 ],
 "metadata": {
  "kernelspec": {
   "display_name": "Python 3",
   "language": "python",
   "name": "python3"
  },
  "language_info": {
   "codemirror_mode": {
    "name": "ipython",
    "version": 3
   },
   "file_extension": ".py",
   "mimetype": "text/x-python",
   "name": "python",
   "nbconvert_exporter": "python",
   "pygments_lexer": "ipython3",
   "version": "3.8.5"
  }
 },
 "nbformat": 4,
 "nbformat_minor": 4
}
