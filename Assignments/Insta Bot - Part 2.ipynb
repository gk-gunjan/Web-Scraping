{
 "cells": [
  {
   "cell_type": "markdown",
   "metadata": {},
   "source": [
    "In this notebook I have done a survey on \"FOOD\" handles of Instagram by web scraping using Selenium. Same code can be be applied for other content/topics\n",
    "(Change the search handle in 1.1 for results on other desired topics)\n",
    "\n",
    "To use some other functionalities of this Bot refer to InstaBot- Part-I notebook."
   ]
  },
  {
   "cell_type": "markdown",
   "metadata": {},
   "source": [
    "### Instructions"
   ]
  },
  {
   "cell_type": "markdown",
   "metadata": {},
   "source": [
    "1. Enter your Username and Password in 'Log in Instagram' section.\n",
    "\n",
    "2. Please run the codes in sequence as given, as some functions are dependent.\n",
    "\n",
    "3. Incase you feel the site has stopped processing the code, please have some patience as some components take time to load and code has been accordingly written to handle it.\n"
   ]
  },
  {
   "cell_type": "markdown",
   "metadata": {},
   "source": [
    "## Creating Web Driver Session "
   ]
  },
  {
   "cell_type": "code",
   "execution_count": 154,
   "metadata": {},
   "outputs": [],
   "source": [
    "#importing selenium libraries\n",
    "from selenium import webdriver\n",
    "from selenium.webdriver.common.keys import Keys\n",
    "from selenium.common.exceptions import NoSuchElementException\n",
    "from selenium.common.exceptions import StaleElementReferenceException\n",
    "from selenium.common.exceptions import TimeoutException\n",
    "from selenium.webdriver.support.ui import WebDriverWait\n",
    "from selenium.webdriver.support import expected_conditions as EC\n",
    "from selenium.webdriver.common.by import By\n",
    "from selenium.webdriver.support.select import Select\n",
    "import time\n",
    "from bs4 import BeautifulSoup"
   ]
  },
  {
   "cell_type": "code",
   "execution_count": 140,
   "metadata": {},
   "outputs": [],
   "source": [
    "driver=webdriver.Chrome(executable_path='/home/gk-gunjan/Desktop/chromedriver')"
   ]
  },
  {
   "cell_type": "code",
   "execution_count": 141,
   "metadata": {},
   "outputs": [],
   "source": [
    "def logIn(user_name,Password):\n",
    "    driver.get('https://www.instagram.com/?hl=en')\n",
    "    time.sleep(5)\n",
    "    assert 'Instagram' in driver.title\n",
    "    us=driver.find_element_by_name(\"username\")\n",
    "    us.send_keys(user_name)\n",
    "    ps=driver.find_element_by_name(\"password\")\n",
    "    ps.send_keys(Password)\n",
    "    bt=driver.find_element_by_xpath(\"//button[contains(@class,'y3zKF')]\")\n",
    "    bt.submit()\n",
    "    time.sleep(5)"
   ]
  },
  {
   "cell_type": "code",
   "execution_count": 142,
   "metadata": {},
   "outputs": [],
   "source": [
    "def login_process():   \n",
    "    try :\n",
    "        #dont save information\n",
    "        bt=driver.find_element_by_xpath(\"//button[contains(@class,'sqdOP yWX7d    y3zKF     ')]\")\n",
    "        bt.click()\n",
    "    except NoSuchElementException:\n",
    "        pass\n",
    "     \n",
    "        \n",
    "    try:\n",
    "        # dont turn on notification\n",
    "        bt=driver.find_element_by_xpath(\"//button[contains(@class,'aOOlW   HoLwm ')]\")\n",
    "        bt.click() \n",
    "        driver.maximize_window()\n",
    "    except NoSuchElementException:\n",
    "        pass"
   ]
  },
  {
   "cell_type": "code",
   "execution_count": 143,
   "metadata": {},
   "outputs": [],
   "source": [
    "#Enter your instagram username and password inplace of sample username and sample password\n",
    "logIn(\"gunjan.photogallery\",\"Najnug.28\")"
   ]
  },
  {
   "cell_type": "code",
   "execution_count": 144,
   "metadata": {},
   "outputs": [],
   "source": [
    "#for not saving info and turning off notifications\n",
    "login_process()"
   ]
  },
  {
   "cell_type": "markdown",
   "metadata": {},
   "source": [
    "## 1.1 Exracting top 5 handles with highest followers"
   ]
  },
  {
   "cell_type": "markdown",
   "metadata": {},
   "source": [
    "### Search "
   ]
  },
  {
   "cell_type": "code",
   "execution_count": 145,
   "metadata": {},
   "outputs": [],
   "source": [
    "# #gives a list of first ten instagram handles  on searching\n",
    "# def search(text):\n",
    "#     search=driver.find_element_by_xpath(\"//div[contains(@class,'LWmhU _0aCwM')]/input\")\n",
    "#     search.clear()\n",
    "#     search.send_keys(text)\n",
    "#     time.sleep(5)\n",
    "#     li=[]\n",
    "#     drop=driver.find_elements_by_class_name(\"uL8Hv\")\n",
    "#     for i in drop:\n",
    "#         x=i.text\n",
    "#         if x[0] != \"#\":\n",
    "#             li.append(x)\n",
    "#     return li[8:18]"
   ]
  },
  {
   "cell_type": "code",
   "execution_count": 146,
   "metadata": {},
   "outputs": [],
   "source": [
    "# #enter your desired search key\n",
    "# top_ten=search(\"food\")"
   ]
  },
  {
   "cell_type": "code",
   "execution_count": 148,
   "metadata": {},
   "outputs": [],
   "source": [
    "# #To open any instagram profile or handle- enter the username in place of handle\n",
    "# def open_profile(handle):\n",
    "#     driver.get('https://www.instagram.com/?hl=en')\n",
    "#     time.sleep(5)\n",
    "#     #search textfield\n",
    "#     search=driver.find_element_by_xpath(\"//div[contains(@class,'LWmhU _0aCwM')]/input\")\n",
    "#     search.clear()\n",
    "#     search.send_keys(handle)\n",
    "#     time.sleep(5)\n",
    "    \n",
    "#     cl=driver.find_element_by_class_name('-qQT3')\n",
    "#     cl.click()"
   ]
  },
  {
   "cell_type": "markdown",
   "metadata": {},
   "source": [
    "### Handles with highest followers"
   ]
  },
  {
   "cell_type": "code",
   "execution_count": 149,
   "metadata": {},
   "outputs": [],
   "source": [
    "# #gives top 5 handles with highest followers from the list 'ten'\n",
    "# def top_follow():\n",
    "#     d={}\n",
    "#     for i in top_ten:\n",
    "#         open_profile(i)\n",
    "#         time.sleep(9)\n",
    "#         followers = driver.find_elements_by_class_name('g47SY')[1].get_attribute('title') # extracting followers of each handle\n",
    "#         d[i] = int(followers.replace(',','')) # converting to integer value\n",
    "    \n",
    "#     #sorts the dictionary by followers\n",
    "#     sorted_d = sorted(d.items(), key = lambda kv:kv[1], reverse = True)[:5] # sorting the by number of followers \n",
    "#     return sorted_d"
   ]
  },
  {
   "cell_type": "code",
   "execution_count": 155,
   "metadata": {},
   "outputs": [],
   "source": [
    "#fetching names of the Instagram Handles that are displayed in list after typing “food” \n",
    "   \n",
    "def search_and_open(profile):\n",
    "    driver.get(\"https://www.instagram.com/\"+profile)\n",
    "    \n",
    "   \n",
    " #finding number of followers  \n",
    "def find_number_of_followers(profile):\n",
    "    search_and_open(profile)\n",
    "    wait = WebDriverWait(driver, 10)\n",
    "    wait2= wait.until(EC.presence_of_element_located((By.CLASS_NAME,\"-nal3\"))) \n",
    "    data = driver.page_source\n",
    "    html_data = BeautifulSoup(data, 'html.parser')\n",
    "    n= html_data.find_all(class_ = '-nal3')\n",
    "    \n",
    "    num_f=n[1].span[\"title\"]\n",
    "\n",
    "    \n",
    "    return num_f\n"
   ]
  },
  {
   "cell_type": "code",
   "execution_count": 157,
   "metadata": {},
   "outputs": [
    {
     "name": "stdout",
     "output_type": "stream",
     "text": [
      "The top 5 which have the highest number of followers :-\n",
      "1 dilsefoodie --> 764179\n",
      "2 foodie_incarnate --> 308020\n",
      "3 foodtalkindia --> 304623\n",
      "4 thisisdelhi --> 165167\n",
      "5 food --> 116884\n"
     ]
    }
   ],
   "source": [
    "search=driver.find_element_by_xpath('//input[contains(@class,\"XTCLo\")]')\n",
    "search.clear()\n",
    "search.send_keys(\"food\")\n",
    "time.sleep(3)\n",
    "\n",
    "l=driver.find_elements_by_class_name(\"uL8Hv\")\n",
    "l=l[8:18]\n",
    "insta_handles=[]\n",
    "for i in l:\n",
    "    insta_handles.append(i.get_attribute('innerHTML').strip('#'))\n",
    "   \n",
    "    \n",
    "d={}\n",
    "for i in insta_handles:\n",
    "    num_followers=find_number_of_followers((i))\n",
    "    \n",
    "    num_followers=num_followers.replace(\",\",\"\")\n",
    "    d[i]=int(num_followers)\n",
    "\n",
    "#finding top 5\n",
    "sort_d={k: v for k,v in sorted(d.items(), key=lambda item:item[1],reverse=True)}\n",
    "c=0\n",
    "print(\"The top 5 which have the highest number of followers :-\")\n",
    "for i in sort_d:\n",
    "    if(c==5):\n",
    "        break\n",
    "    \n",
    "    print(c+1,i,\"-->\",sort_d[i])\n",
    "    c+=1"
   ]
  },
  {
   "cell_type": "markdown",
   "metadata": {},
   "source": [
    "## 1.2"
   ]
  },
  {
   "cell_type": "code",
   "execution_count": 159,
   "metadata": {},
   "outputs": [
    {
     "data": {
      "text/plain": [
       "['foodtalkindia',\n",
       " 'dilsefoodie',\n",
       " 'pandareviewz',\n",
       " 'mccainfoods_india',\n",
       " 'thisisdelhi',\n",
       " 'delhifoodguide',\n",
       " 'food',\n",
       " 'delhieater',\n",
       " 'food_lunatic',\n",
       " 'foodie_incarnate']"
      ]
     },
     "execution_count": 159,
     "metadata": {},
     "output_type": "execute_result"
    }
   ],
   "source": [
    "insta_handles"
   ]
  },
  {
   "cell_type": "code",
   "execution_count": null,
   "metadata": {},
   "outputs": [],
   "source": [
    "print(\"Top 5 handles (w.r.t followers) : \")\n",
    "print()\n",
    "\n",
    "print(\" \", \"Handle\",\"      \",\"Followers\")\n",
    "\n",
    "five=[]\n",
    "for i,j in sorted_top:\n",
    "    print(i,\" : \",j)\n",
    "    five.append(i)"
   ]
  },
  {
   "cell_type": "code",
   "execution_count": 161,
   "metadata": {},
   "outputs": [
    {
     "data": {
      "text/plain": [
       "{'dilsefoodie': 764179,\n",
       " 'foodie_incarnate': 308020,\n",
       " 'foodtalkindia': 304623,\n",
       " 'thisisdelhi': 165167,\n",
       " 'food': 116884,\n",
       " 'food_lunatic': 108803,\n",
       " 'delhifoodguide': 102487,\n",
       " 'pandareviewz': 25693,\n",
       " 'delhieater': 24096,\n",
       " 'mccainfoods_india': 6453}"
      ]
     },
     "execution_count": 161,
     "metadata": {},
     "output_type": "execute_result"
    }
   ],
   "source": [
    "sort_d"
   ]
  },
  {
   "cell_type": "code",
   "execution_count": null,
   "metadata": {},
   "outputs": [],
   "source": []
  }
 ],
 "metadata": {
  "kernelspec": {
   "display_name": "Python 3",
   "language": "python",
   "name": "python3"
  },
  "language_info": {
   "codemirror_mode": {
    "name": "ipython",
    "version": 3
   },
   "file_extension": ".py",
   "mimetype": "text/x-python",
   "name": "python",
   "nbconvert_exporter": "python",
   "pygments_lexer": "ipython3",
   "version": "3.8.5"
  }
 },
 "nbformat": 4,
 "nbformat_minor": 4
}
