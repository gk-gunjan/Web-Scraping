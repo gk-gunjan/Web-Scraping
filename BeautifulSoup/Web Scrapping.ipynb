{
 "cells": [
  {
   "cell_type": "markdown",
   "metadata": {},
   "source": [
    "## Lecture 19: Web Scraping - BeautifulSoup"
   ]
  },
  {
   "cell_type": "code",
   "execution_count": 1,
   "metadata": {},
   "outputs": [],
   "source": [
    "from bs4 import BeautifulSoup"
   ]
  },
  {
   "cell_type": "code",
   "execution_count": 2,
   "metadata": {},
   "outputs": [],
   "source": [
    "html='<!DOCTYPE html><html><head><title>Learning Beautiful Soup</title></head>\\\n",
    "<body><h1> About Us </h1><div class = \"first_div\"><p>Coding Ninjas Website</p>\\\n",
    "<a href=\"https://www.codingninjas.in/\">Link to Coding Ninjas Website</a>\\\n",
    "<ul><li>This</li><li>is</li><li>an</li><li>unordered</li><li>list.</li></ul>\\\n",
    "</div><p id = \"template_p\">This is a template paragraph tag</p>\\\n",
    "<a href = \"https://www.facebook.com/codingninjas/\">\\\n",
    "This is the link of our Facebook Page</a></body></html>'"
   ]
  },
  {
   "cell_type": "code",
   "execution_count": 50,
   "metadata": {},
   "outputs": [
    {
     "data": {
      "text/plain": [
       "<html><head><title>Learning Beautiful Soup</title></head><body><h1> About Us </h1><div class=\"first_div\"><p>Coding Ninjas Website</p><a href=\"https://www.codingninjas.in/\">Link to Coding Ninjas Website</a><ul><li>This</li><li>is</li><li>an</li><li>unordered</li><li>list.</li></ul></div><p id=\"template_p\">This is a template paragraph tag</p><a href=\"https://www.facebook.com/codingninjas/\">This is the link of our Facebook Page</a></body></html>"
      ]
     },
     "execution_count": 50,
     "metadata": {},
     "output_type": "execute_result"
    }
   ],
   "source": [
    "data=BeautifulSoup(html,'html.parser')\n",
    "data.html"
   ]
  },
  {
   "cell_type": "code",
   "execution_count": 51,
   "metadata": {},
   "outputs": [
    {
     "data": {
      "text/plain": [
       "<head><title>Learning Beautiful Soup</title></head>"
      ]
     },
     "execution_count": 51,
     "metadata": {},
     "output_type": "execute_result"
    }
   ],
   "source": [
    "data.head"
   ]
  },
  {
   "cell_type": "code",
   "execution_count": 52,
   "metadata": {},
   "outputs": [
    {
     "data": {
      "text/plain": [
       "<body><h1> About Us </h1><div class=\"first_div\"><p>Coding Ninjas Website</p><a href=\"https://www.codingninjas.in/\">Link to Coding Ninjas Website</a><ul><li>This</li><li>is</li><li>an</li><li>unordered</li><li>list.</li></ul></div><p id=\"template_p\">This is a template paragraph tag</p><a href=\"https://www.facebook.com/codingninjas/\">This is the link of our Facebook Page</a></body>"
      ]
     },
     "execution_count": 52,
     "metadata": {},
     "output_type": "execute_result"
    }
   ],
   "source": [
    "data.body"
   ]
  },
  {
   "cell_type": "code",
   "execution_count": 53,
   "metadata": {},
   "outputs": [
    {
     "data": {
      "text/plain": [
       "'Learning Beautiful Soup'"
      ]
     },
     "execution_count": 53,
     "metadata": {},
     "output_type": "execute_result"
    }
   ],
   "source": [
    "data.title.string"
   ]
  },
  {
   "cell_type": "code",
   "execution_count": 54,
   "metadata": {},
   "outputs": [
    {
     "data": {
      "text/plain": [
       "'Coding Ninjas Website'"
      ]
     },
     "execution_count": 54,
     "metadata": {},
     "output_type": "execute_result"
    }
   ],
   "source": [
    "data.p.string"
   ]
  },
  {
   "cell_type": "code",
   "execution_count": 59,
   "metadata": {},
   "outputs": [
    {
     "data": {
      "text/plain": [
       "'Link to Coding Ninjas Website'"
      ]
     },
     "execution_count": 59,
     "metadata": {},
     "output_type": "execute_result"
    }
   ],
   "source": [
    "data.a.string"
   ]
  },
  {
   "cell_type": "code",
   "execution_count": 60,
   "metadata": {},
   "outputs": [
    {
     "data": {
      "text/plain": [
       "[<p>Coding Ninjas Website</p>,\n",
       " <p id=\"template_p\">This is a template paragraph tag</p>]"
      ]
     },
     "execution_count": 60,
     "metadata": {},
     "output_type": "execute_result"
    }
   ],
   "source": [
    "data.find_all('p')"
   ]
  },
  {
   "cell_type": "markdown",
   "metadata": {},
   "source": [
    "#### Assignments\n",
    " ##### Print Body tag"
   ]
  },
  {
   "cell_type": "code",
   "execution_count": 3,
   "metadata": {},
   "outputs": [
    {
     "name": "stdout",
     "output_type": "stream",
     "text": [
      "<body><h1> About Us </h1><div class=\"first_div\"><p>Coding Ninjas Website</p><a href=\"https://www.codingninjas.in/\">Link to Coding Ninjas Website</a><ul><li>This</li><li>is</li><li>an</li><li>unordered</li><li>list.</li></ul></div><p id=\"template_p\">This is a template paragraph tag</p><a href=\"https://www.facebook.com/codingninjas/\">This is the link of our Facebook Page</a></body>\n"
     ]
    }
   ],
   "source": [
    "data=BeautifulSoup(html,'html.parser')\n",
    "print(data.body)"
   ]
  },
  {
   "cell_type": "code",
   "execution_count": 6,
   "metadata": {},
   "outputs": [
    {
     "name": "stdout",
     "output_type": "stream",
     "text": [
      "<!DOCTYPE html>\n",
      "<html>\n",
      " <head>\n",
      "  <title>\n",
      "   Learning Beautiful Soup\n",
      "  </title>\n",
      " </head>\n",
      " <body>\n",
      "  <h1>\n",
      "   About Us\n",
      "  </h1>\n",
      "  <div class=\"first_div\">\n",
      "   <p>\n",
      "    Coding Ninjas Website\n",
      "   </p>\n",
      "   <a href=\"https://www.codingninjas.in/\">\n",
      "    Link to Coding Ninjas Website\n",
      "   </a>\n",
      "   <ul>\n",
      "    <li>\n",
      "     This\n",
      "    </li>\n",
      "    <li>\n",
      "     is\n",
      "    </li>\n",
      "    <li>\n",
      "     an\n",
      "    </li>\n",
      "    <li>\n",
      "     unordered\n",
      "    </li>\n",
      "    <li>\n",
      "     list.\n",
      "    </li>\n",
      "   </ul>\n",
      "  </div>\n",
      "  <p id=\"template_p\">\n",
      "   This is a template paragraph tag\n",
      "  </p>\n",
      "  <a href=\"https://www.facebook.com/codingninjas/\">\n",
      "   This is the link of our Facebook Page\n",
      "  </a>\n",
      " </body>\n",
      "</html>\n"
     ]
    }
   ],
   "source": [
    "print(data.prettify())"
   ]
  },
  {
   "cell_type": "markdown",
   "metadata": {},
   "source": [
    "#####  Attributes of div tag"
   ]
  },
  {
   "cell_type": "code",
   "execution_count": 39,
   "metadata": {},
   "outputs": [
    {
     "name": "stdout",
     "output_type": "stream",
     "text": [
      "{'class': ['first_div']}\n"
     ]
    }
   ],
   "source": [
    "print(data.div.attrs)"
   ]
  },
  {
   "cell_type": "code",
   "execution_count": 42,
   "metadata": {},
   "outputs": [
    {
     "name": "stdout",
     "output_type": "stream",
     "text": [
      "class\n"
     ]
    }
   ],
   "source": [
    "d=data.div.attrs\n",
    "for i in d:\n",
    "    print(i)"
   ]
  },
  {
   "cell_type": "markdown",
   "metadata": {},
   "source": [
    "##### Strings of li"
   ]
  },
  {
   "cell_type": "code",
   "execution_count": 48,
   "metadata": {},
   "outputs": [
    {
     "name": "stdout",
     "output_type": "stream",
     "text": [
      "This\n",
      "is\n",
      "an\n",
      "unordered\n",
      "list.\n"
     ]
    }
   ],
   "source": [
    "d=data.find_all('li')\n",
    "for i in d:\n",
    "    print(i.string)"
   ]
  },
  {
   "cell_type": "markdown",
   "metadata": {},
   "source": [
    "##### href of A tag"
   ]
  },
  {
   "cell_type": "code",
   "execution_count": 49,
   "metadata": {},
   "outputs": [
    {
     "name": "stdout",
     "output_type": "stream",
     "text": [
      "https://www.codingninjas.in/\n",
      "https://www.facebook.com/codingninjas/\n"
     ]
    }
   ],
   "source": [
    "from bs4 import BeautifulSoup\n",
    "\n",
    "data=BeautifulSoup(html,'html.parser')\n",
    "d1=data.find_all('a')\n",
    "for i in d1:\n",
    "    print(i.get('href'))"
   ]
  },
  {
   "cell_type": "markdown",
   "metadata": {},
   "source": [
    "#### Navigating Parse Tree"
   ]
  },
  {
   "cell_type": "code",
   "execution_count": 3,
   "metadata": {},
   "outputs": [
    {
     "name": "stdout",
     "output_type": "stream",
     "text": [
      "<head><title>Learning Beautiful Soup</title></head>\n",
      "<html><head><title>Learning Beautiful Soup</title></head><body><h1> About Us </h1><div class=\"first_div\"><p>Coding Ninjas Website</p><a href=\"https://www.codingninjas.in/\">Link to Coding Ninjas Website</a><ul><li>This</li><li>is</li><li>an</li><li>unordered</li><li>list.</li></ul></div><p id=\"template_p\">This is a template paragraph tag</p><a href=\"https://www.facebook.com/codingninjas/\">This is the link of our Facebook Page</a></body></html>\n",
      "<!DOCTYPE html>\n",
      "<html><head><title>Learning Beautiful Soup</title></head><body><h1> About Us </h1><div class=\"first_div\"><p>Coding Ninjas Website</p><a href=\"https://www.codingninjas.in/\">Link to Coding Ninjas Website</a><ul><li>This</li><li>is</li><li>an</li><li>unordered</li><li>list.</li></ul></div><p id=\"template_p\">This is a template paragraph tag</p><a href=\"https://www.facebook.com/codingninjas/\">This is the link of our Facebook Page</a></body></html>\n"
     ]
    }
   ],
   "source": [
    "html = '<!DOCTYPE html><html><head><title>Learning Beautiful Soup</title></head>\\\n",
    "<body><h1> About Us </h1><div class = \"first_div\"><p>Coding Ninjas Website</p>\\\n",
    "<a href=\"https://www.codingninjas.in/\">Link to Coding Ninjas Website</a>\\\n",
    "<ul><li>This</li><li>is</li><li>an</li><li>unordered</li><li>list.</li></ul>\\\n",
    "</div><p id = \"template_p\">This is a template paragraph tag</p>\\\n",
    "<a href = \"https://www.facebook.com/codingninjas/\">\\\n",
    "This is the link of our Facebook Page</a></body></html>'\n",
    "\n",
    "from bs4 import BeautifulSoup\n",
    "data=BeautifulSoup(html,'html.parser')\n",
    "d1=list(data.title.parents)\n",
    "for i in d1:\n",
    "    print(i)"
   ]
  },
  {
   "cell_type": "code",
   "execution_count": 5,
   "metadata": {},
   "outputs": [
    {
     "name": "stdout",
     "output_type": "stream",
     "text": [
      "<!DOCTYPE html>\n",
      "<html>\n",
      " <head>\n",
      "  <title>\n",
      "   Learning Beautiful Soup\n",
      "  </title>\n",
      " </head>\n",
      " <body>\n",
      "  <h1>\n",
      "   About Us\n",
      "  </h1>\n",
      "  <div class=\"first_div\">\n",
      "   <p>\n",
      "    Coding Ninjas Website\n",
      "   </p>\n",
      "   <a href=\"https://www.codingninjas.in/\">\n",
      "    Link to Coding Ninjas Website\n",
      "   </a>\n",
      "   <ul>\n",
      "    <li>\n",
      "     This\n",
      "    </li>\n",
      "    <li>\n",
      "     is\n",
      "    </li>\n",
      "    <li>\n",
      "     an\n",
      "    </li>\n",
      "    <li>\n",
      "     unordered\n",
      "    </li>\n",
      "    <li>\n",
      "     list.\n",
      "    </li>\n",
      "   </ul>\n",
      "  </div>\n",
      "  <p id=\"template_p\">\n",
      "   This is a template paragraph tag\n",
      "  </p>\n",
      "  <a href=\"https://www.facebook.com/codingninjas/\">\n",
      "   This is the link of our Facebook Page\n",
      "  </a>\n",
      " </body>\n",
      "</html>\n"
     ]
    }
   ],
   "source": [
    "print(data.prettify())"
   ]
  },
  {
   "cell_type": "markdown",
   "metadata": {},
   "source": [
    "### Extracting data from Web page"
   ]
  },
  {
   "cell_type": "code",
   "execution_count": 1,
   "metadata": {},
   "outputs": [
    {
     "data": {
      "text/plain": [
       "<Response [200]>"
      ]
     },
     "execution_count": 1,
     "metadata": {},
     "output_type": "execute_result"
    }
   ],
   "source": [
    "from bs4 import BeautifulSoup\n",
    "import requests\n",
    "response=requests.get('http://info.cern.ch/hypertext/WWW/TheProject.html')\n",
    "response"
   ]
  },
  {
   "cell_type": "code",
   "execution_count": 7,
   "metadata": {},
   "outputs": [],
   "source": [
    "html_text=response.text\n",
    "data=BeautifulSoup(html_text,'html.parser')"
   ]
  },
  {
   "cell_type": "code",
   "execution_count": 11,
   "metadata": {},
   "outputs": [
    {
     "name": "stdout",
     "output_type": "stream",
     "text": [
      "<bound method Tag.prettify of <header>\n",
      "<title>The World Wide Web project</title>\n",
      "<nextid n=\"55\"/>\n",
      "</header>\n",
      "<body>\n",
      "<h1>World Wide Web</h1>The WorldWideWeb (W3) is a wide-area<a href=\"WhatIs.html\" name=\"0\">\n",
      "hypermedia</a> information retrieval\n",
      "initiative aiming to give universal\n",
      "access to a large universe of documents.<p>\n",
      "Everything there is online about\n",
      "W3 is linked directly or indirectly\n",
      "to this document, including an <a href=\"Summary.html\" name=\"24\">executive\n",
      "summary</a> of the project, <a href=\"Administration/Mailing/Overview.html\" name=\"29\">Mailing lists</a>\n",
      ", <a href=\"Policy.html\" name=\"30\">Policy</a> , November's  <a href=\"News/9211.html\" name=\"34\">W3  news</a> ,\n",
      "<a href=\"FAQ/List.html\" name=\"41\">Frequently Asked Questions</a> .\n",
      "<dl>\n",
      "<dt><a href=\"../DataSources/Top.html\" name=\"44\">What's out there?</a>\n",
      "<dd> Pointers to the\n",
      "world's online information,<a href=\"../DataSources/bySubject/Overview.html\" name=\"45\"> subjects</a>\n",
      ", <a href=\"../DataSources/WWW/Servers.html\" name=\"z54\">W3 servers</a>, etc.\n",
      "<dt><a href=\"Help.html\" name=\"46\">Help</a>\n",
      "<dd> on the browser you are using\n",
      "<dt><a href=\"Status.html\" name=\"13\">Software Products</a>\n",
      "<dd> A list of W3 project\n",
      "components and their current state.\n",
      "(e.g. <a href=\"LineMode/Browser.html\" name=\"27\">Line Mode</a> ,X11 <a href=\"Status.html#35\" name=\"35\">Viola</a> ,  <a href=\"NeXT/WorldWideWeb.html\" name=\"26\">NeXTStep</a>\n",
      ", <a href=\"Daemon/Overview.html\" name=\"25\">Servers</a> , <a href=\"Tools/Overview.html\" name=\"51\">Tools</a> ,<a href=\"MailRobot/Overview.html\" name=\"53\"> Mail robot</a> ,<a href=\"Status.html#57\" name=\"52\">\n",
      "Library</a> )\n",
      "<dt><a href=\"Technical.html\" name=\"47\">Technical</a>\n",
      "<dd> Details of protocols, formats,\n",
      "program internals etc\n",
      "<dt><a href=\"Bibliography.html\" name=\"40\">Bibliography</a>\n",
      "<dd> Paper documentation\n",
      "on  W3 and references.\n",
      "<dt><a href=\"People.html\" name=\"14\">People</a>\n",
      "<dd> A list of some people involved\n",
      "in the project.\n",
      "<dt><a href=\"History.html\" name=\"15\">History</a>\n",
      "<dd> A summary of the history\n",
      "of the project.\n",
      "<dt><a href=\"Helping.html\" name=\"37\">How can I help</a> ?\n",
      "<dd> If you would like\n",
      "to support the web..\n",
      "<dt><a href=\"../README.html\" name=\"48\">Getting code</a>\n",
      "<dd> Getting the code by<a href=\"LineMode/Defaults/Distribution.html\" name=\"49\">\n",
      "anonymous FTP</a> , etc.\n",
      "</dd></dt></dd></dt></dd></dt></dd></dt></dd></dt></dd></dt></dd></dt></dd></dt></dd></dt></dl>\n",
      "</p></body>\n",
      ">\n"
     ]
    }
   ],
   "source": [
    "print(data.prettify)"
   ]
  },
  {
   "cell_type": "code",
   "execution_count": 13,
   "metadata": {},
   "outputs": [
    {
     "data": {
      "text/plain": [
       "'The World Wide Web project'"
      ]
     },
     "execution_count": 13,
     "metadata": {},
     "output_type": "execute_result"
    }
   ],
   "source": [
    "data.title.string"
   ]
  },
  {
   "cell_type": "code",
   "execution_count": 16,
   "metadata": {},
   "outputs": [
    {
     "data": {
      "text/plain": [
       "\"\\nThe World Wide Web project\\n\\n\\n\\nWorld Wide WebThe WorldWideWeb (W3) is a wide-area\\nhypermedia information retrieval\\ninitiative aiming to give universal\\naccess to a large universe of documents.\\nEverything there is online about\\nW3 is linked directly or indirectly\\nto this document, including an executive\\nsummary of the project, Mailing lists\\n, Policy , November's  W3  news ,\\nFrequently Asked Questions .\\n\\nWhat's out there?\\n Pointers to the\\nworld's online information, subjects\\n, W3 servers, etc.\\nHelp\\n on the browser you are using\\nSoftware Products\\n A list of W3 project\\ncomponents and their current state.\\n(e.g. Line Mode ,X11 Viola ,  NeXTStep\\n, Servers , Tools , Mail robot ,\\nLibrary )\\nTechnical\\n Details of protocols, formats,\\nprogram internals etc\\nBibliography\\n Paper documentation\\non  W3 and references.\\nPeople\\n A list of some people involved\\nin the project.\\nHistory\\n A summary of the history\\nof the project.\\nHow can I help ?\\n If you would like\\nto support the web..\\nGetting code\\n Getting the code by\\nanonymous FTP , etc.\\n\\n\\n\""
      ]
     },
     "execution_count": 16,
     "metadata": {},
     "output_type": "execute_result"
    }
   ],
   "source": [
    "data.text"
   ]
  },
  {
   "cell_type": "code",
   "execution_count": 24,
   "metadata": {},
   "outputs": [
    {
     "name": "stdout",
     "output_type": "stream",
     "text": [
      "\n",
      "hypermedia\n",
      "executive\n",
      "summary\n",
      "Mailing lists\n",
      "Policy\n",
      "W3  news\n",
      "Frequently Asked Questions\n",
      "What's out there?\n",
      " subjects\n",
      "W3 servers\n",
      "Help\n",
      "Software Products\n",
      "Line Mode\n",
      "Viola\n",
      "NeXTStep\n",
      "Servers\n",
      "Tools\n",
      " Mail robot\n",
      "\n",
      "Library\n",
      "Technical\n",
      "Bibliography\n",
      "People\n",
      "History\n",
      "How can I help\n",
      "Getting code\n",
      "\n",
      "anonymous FTP\n"
     ]
    }
   ],
   "source": [
    "an=data.find_all('a')\n",
    "for i in an:\n",
    "    print(i.string)"
   ]
  },
  {
   "cell_type": "code",
   "execution_count": 30,
   "metadata": {},
   "outputs": [
    {
     "data": {
      "text/plain": [
       "'The World Wide Web project'"
      ]
     },
     "execution_count": 30,
     "metadata": {},
     "output_type": "execute_result"
    }
   ],
   "source": [
    "data.header.title.string"
   ]
  },
  {
   "cell_type": "code",
   "execution_count": 47,
   "metadata": {},
   "outputs": [
    {
     "name": "stdout",
     "output_type": "stream",
     "text": [
      "What's out there?\n",
      " subjects\n",
      "W3 servers\n",
      "Help\n",
      "Software Products\n",
      "Line Mode\n",
      "Viola\n",
      "NeXTStep\n",
      "Servers\n",
      "Tools\n",
      " Mail robot\n",
      "\n",
      "Library\n",
      "Technical\n",
      "Bibliography\n",
      "People\n",
      "History\n",
      "How can I help\n",
      "Getting code\n",
      "\n",
      "anonymous FTP\n"
     ]
    }
   ],
   "source": [
    "a=data.dl.find_all('a')\n",
    "for i in a:\n",
    "    print(i.string)\n"
   ]
  },
  {
   "cell_type": "code",
   "execution_count": 61,
   "metadata": {},
   "outputs": [
    {
     "name": "stdout",
     "output_type": "stream",
     "text": [
      "What's out there?\n",
      "Help\n",
      "Software Products\n",
      "Technical\n",
      "Bibliography\n",
      "People\n",
      "History\n",
      "How can I help\n",
      "Getting code\n"
     ]
    }
   ],
   "source": [
    "d=data.dl.find_all('dt')\n",
    "for i in d:\n",
    "    print(i.a.string)"
   ]
  },
  {
   "cell_type": "code",
   "execution_count": null,
   "metadata": {},
   "outputs": [],
   "source": []
  }
 ],
 "metadata": {
  "kernelspec": {
   "display_name": "Python 3",
   "language": "python",
   "name": "python3"
  },
  "language_info": {
   "codemirror_mode": {
    "name": "ipython",
    "version": 3
   },
   "file_extension": ".py",
   "mimetype": "text/x-python",
   "name": "python",
   "nbconvert_exporter": "python",
   "pygments_lexer": "ipython3",
   "version": "3.8.5"
  }
 },
 "nbformat": 4,
 "nbformat_minor": 4
}
