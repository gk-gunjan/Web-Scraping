{
 "cells": [
  {
   "cell_type": "markdown",
   "metadata": {},
   "source": [
    "## Assignments"
   ]
  },
  {
   "cell_type": "markdown",
   "metadata": {},
   "source": [
    "Print the data of first 3 movies\n",
    "Send Feedback\n",
    "From this link,\n",
    "Find and print the name and genre of the first 3 titles"
   ]
  },
  {
   "cell_type": "code",
   "execution_count": 1,
   "metadata": {},
   "outputs": [],
   "source": [
    "from bs4 import BeautifulSoup as soup\n",
    "import requests"
   ]
  },
  {
   "cell_type": "code",
   "execution_count": 4,
   "metadata": {},
   "outputs": [
    {
     "name": "stdout",
     "output_type": "stream",
     "text": [
      "Avengers: Infinity War ;Action, Adventure, Sci-Fi\n",
      "Black Panther ;Action, Adventure, Sci-Fi\n",
      "Deadpool 2 ;Action, Adventure, Comedy\n"
     ]
    }
   ],
   "source": [
    "base_url='https://www.imdb.com/search/title/?release_date=2018&sort=num_votes,desc&page=1&ref_=adv_nxt'\n",
    "response=requests.get(base_url)\n",
    "data=soup(response.text,'html.parser')\n",
    "d1=data.find_all(class_='lister-item-header')\n",
    "d2=data.find_all(class_='genre')\n",
    "\n",
    "for i in range(0,3):\n",
    "    print(d1[i].a.string,\";\",end='')\n",
    "    d2[i] = d2[i].string.strip()\n",
    "    d2[i] = d2[i].split(\",\")\n",
    "    for p in range(len(d2[i])):\n",
    "        if p==len(d2[i])-1:\n",
    "            print(d2[i][p])\n",
    "        else:\n",
    "            print(d2[i][p],end=\",\")\n",
    "\n"
   ]
  },
  {
   "cell_type": "markdown",
   "metadata": {},
   "source": [
    "### titles with most votes"
   ]
  },
  {
   "cell_type": "code",
   "execution_count": 21,
   "metadata": {},
   "outputs": [
    {
     "name": "stdout",
     "output_type": "stream",
     "text": [
      "Inception\n",
      "Game of Thrones\n",
      "The Dark Knight Rises\n",
      "The Wolf of Wall Street\n",
      "Interstellar\n"
     ]
    }
   ],
   "source": [
    "for i in range(2010,2015):\n",
    "    \n",
    "    base_url='https://www.imdb.com/search/title?release_date='+str(i)+'-01-01,'+str(i)+'-12-31&sort=num_votes,desc&page=1&ref_=adv_nxt'\n",
    "    response=requests.get(base_url)\n",
    "    data=soup(response.text,'html.parser')\n",
    "    title=data.find(class_='lister-item-header')\n",
    "    name=title.find('a').string.strip()\n",
    "    print(name)"
   ]
  },
  {
   "cell_type": "code",
   "execution_count": 9,
   "metadata": {},
   "outputs": [
    {
     "name": "stdout",
     "output_type": "stream",
     "text": [
      "Inception\n",
      "Game of Thrones\n",
      "The Dark Knight Rises\n",
      "The Wolf of Wall Street\n",
      "Interstellar\n"
     ]
    }
   ],
   "source": [
    "import requests\n",
    "from bs4 import BeautifulSoup\n",
    "for i in range(2010,2015):\n",
    "    x = \"https://www.imdb.com/search/title/?release_date=\"+str(i)+\"-01-01,\"+str(i)+\"-12-31&sort=num_votes,desc&ref_=adv_nxt\"\n",
    "    response = requests.get(x)\n",
    "    html_data = response.text\n",
    "    data = BeautifulSoup(html_data,'html.parser')\n",
    "    y = data.find(class_='lister-item-header')\n",
    "    # print(y)\n",
    "    a = y.find('a').string.strip()\n",
    "    print(a)"
   ]
  },
  {
   "cell_type": "code",
   "execution_count": null,
   "metadata": {},
   "outputs": [],
   "source": []
  }
 ],
 "metadata": {
  "kernelspec": {
   "display_name": "Python 3",
   "language": "python",
   "name": "python3"
  },
  "language_info": {
   "codemirror_mode": {
    "name": "ipython",
    "version": 3
   },
   "file_extension": ".py",
   "mimetype": "text/x-python",
   "name": "python",
   "nbconvert_exporter": "python",
   "pygments_lexer": "ipython3",
   "version": "3.8.5"
  }
 },
 "nbformat": 4,
 "nbformat_minor": 4
}
