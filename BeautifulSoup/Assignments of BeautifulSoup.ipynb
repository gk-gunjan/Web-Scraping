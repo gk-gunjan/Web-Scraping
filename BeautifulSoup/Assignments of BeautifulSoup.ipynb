{
 "cells": [
  {
   "cell_type": "markdown",
   "metadata": {},
   "source": [
    "## Assignments"
   ]
  },
  {
   "cell_type": "markdown",
   "metadata": {},
   "source": [
    "Print the data of first 3 movies\n",
    "Send Feedback\n",
    "From this link,\n",
    "Find and print the name and genre of the first 3 titles"
   ]
  },
  {
   "cell_type": "code",
   "execution_count": 1,
   "metadata": {},
   "outputs": [],
   "source": [
    "from bs4 import BeautifulSoup as soup\n",
    "import requests"
   ]
  },
  {
   "cell_type": "code",
   "execution_count": 4,
   "metadata": {},
   "outputs": [
    {
     "name": "stdout",
     "output_type": "stream",
     "text": [
      "Avengers: Infinity War ;Action, Adventure, Sci-Fi\n",
      "Black Panther ;Action, Adventure, Sci-Fi\n",
      "Deadpool 2 ;Action, Adventure, Comedy\n"
     ]
    }
   ],
   "source": [
    "base_url='https://www.imdb.com/search/title/?release_date=2018&sort=num_votes,desc&page=1&ref_=adv_nxt'\n",
    "response=requests.get(base_url)\n",
    "data=soup(response.text,'html.parser')\n",
    "d1=data.find_all(class_='lister-item-header')\n",
    "d2=data.find_all(class_='genre')\n",
    "\n",
    "for i in range(0,3):\n",
    "    print(d1[i].a.string,\";\",end='')\n",
    "    d2[i] = d2[i].string.strip()\n",
    "    d2[i] = d2[i].split(\",\")\n",
    "    for p in range(len(d2[i])):\n",
    "        if p==len(d2[i])-1:\n",
    "            print(d2[i][p])\n",
    "        else:\n",
    "            print(d2[i][p],end=\",\")\n",
    "\n"
   ]
  },
  {
   "cell_type": "markdown",
   "metadata": {},
   "source": [
    "### titles with most votes"
   ]
  },
  {
   "cell_type": "code",
   "execution_count": 21,
   "metadata": {},
   "outputs": [
    {
     "name": "stdout",
     "output_type": "stream",
     "text": [
      "Inception\n",
      "Game of Thrones\n",
      "The Dark Knight Rises\n",
      "The Wolf of Wall Street\n",
      "Interstellar\n"
     ]
    }
   ],
   "source": [
    "for i in range(2010,2015):\n",
    "    \n",
    "    base_url='https://www.imdb.com/search/title?release_date='+str(i)+'-01-01,'+str(i)+'-12-31&sort=num_votes,desc&page=1&ref_=adv_nxt'\n",
    "    response=requests.get(base_url)\n",
    "    data=soup(response.text,'html.parser')\n",
    "    title=data.find(class_='lister-item-header')\n",
    "    name=title.find('a').string.strip()\n",
    "    print(name)"
   ]
  },
  {
   "cell_type": "markdown",
   "metadata": {},
   "source": [
    "### title with maximum duration"
   ]
  },
  {
   "cell_type": "code",
   "execution_count": 49,
   "metadata": {},
   "outputs": [
    {
     "name": "stdout",
     "output_type": "stream",
     "text": [
      "The Haunting of Hill House 572\n"
     ]
    }
   ],
   "source": [
    "import requests \n",
    "import time \n",
    "from bs4 import BeautifulSoup\n",
    "from random import randint\n",
    "dict = {} \n",
    "for i in range(1,202,50) : \n",
    "    page = requests.get(\"https://www.imdb.com/search/title?release_date=2018-01-01,2018-12-31&sort=num_votes,desc&start=\" + str(i) + \"&ref_=adv_nxt\") \n",
    "    soup = BeautifulSoup(page.content,'html.parser') \n",
    "    tags = soup.find_all(\"div\",class_=\"lister-item\") \n",
    "    for j in tags : \n",
    "        if j.find(\"span\",class_=\"runtime\") : \n",
    "            head = j.find(\"h3\",class_=\"lister-item-header\") \n",
    "            dur = j.find(\"span\",class_=\"runtime\") \n",
    "            t = int(dur.text.strip().split(\" \")[0]) \n",
    "            dict[head.a.string] = t \n",
    "    time.sleep(randint(0,3)) \n",
    "maxdur = -1 \n",
    "maxname = 0 \n",
    "for k,v in dict.items() : \n",
    "    if v > maxdur : \n",
    "        maxdur = v \n",
    "        maxname = k \n",
    "print(maxname,maxdur)\n"
   ]
  },
  {
   "cell_type": "code",
   "execution_count": null,
   "metadata": {},
   "outputs": [],
   "source": []
  },
  {
   "cell_type": "markdown",
   "metadata": {},
   "source": [
    "### Quotes with tag humor"
   ]
  },
  {
   "cell_type": "code",
   "execution_count": 34,
   "metadata": {},
   "outputs": [
    {
     "name": "stdout",
     "output_type": "stream",
     "text": [
      "“The person, be it gentleman or lady, who has not pleasure in a good novel, must be intolerably stupid.”\n",
      "“A day without sunshine is like, you know, night.”\n",
      "“Anyone who thinks sitting in church can make you a Christian must also think that sitting in a garage can make you a car.”\n",
      "“Beauty is in the eye of the beholder and it may be necessary from time to time to give a stupid or misinformed beholder a black eye.”\n",
      "“All you need is love. But a little chocolate now and then doesn't hurt.”\n",
      "“Remember, we're madly in love, so it's all right to kiss me anytime you feel like it.”\n",
      "“Some people never go crazy. What truly horrible lives they must lead.”\n",
      "“The trouble with having an open mind, of course, is that people will insist on coming along and trying to put things in it.”\n",
      "“Think left and think right and think low and think high. Oh, the thinks you can think up if only you try!”\n",
      "“The reason I talk to myself is because I’m the only one whose answers I accept.”\n",
      "“I am free of all prejudice. I hate everyone equally. ”\n",
      "“A lady's imagination is very rapid; it jumps from admiration to love, from love to matrimony in a moment.”\n"
     ]
    }
   ],
   "source": [
    "import requests\n",
    "from bs4 import BeautifulSoup as soup\n",
    "for i in range(1,3):\n",
    "    base_url='http://quotes.toscrape.com/tag/humor/page/'+str(i)+'/'\n",
    "    response=requests.get(base_url)\n",
    "    data=soup(response.text,'html.parser')\n",
    "    quote=data.find_all(class_='quote')\n",
    "    for i in quote:\n",
    "        print(i.span.string)"
   ]
  },
  {
   "cell_type": "markdown",
   "metadata": {},
   "source": [
    "### Print all authors"
   ]
  },
  {
   "cell_type": "code",
   "execution_count": 36,
   "metadata": {},
   "outputs": [
    {
     "name": "stdout",
     "output_type": "stream",
     "text": [
      "Albert Einstein\n",
      "Alexandre Dumas fils\n",
      "Alfred Tennyson\n",
      "Allen Saunders\n",
      "André Gide\n",
      "Ayn Rand\n",
      "Bob Marley\n",
      "C.S. Lewis\n",
      "Charles Bukowski\n",
      "Charles M. Schulz\n",
      "Douglas Adams\n",
      "Dr. Seuss\n",
      "E.E. Cummings\n",
      "Eleanor Roosevelt\n",
      "Elie Wiesel\n",
      "Ernest Hemingway\n",
      "Friedrich Nietzsche\n",
      "Garrison Keillor\n",
      "George Bernard Shaw\n",
      "George Carlin\n",
      "George Eliot\n",
      "George R.R. Martin\n",
      "Harper Lee\n",
      "Haruki Murakami\n",
      "Helen Keller\n",
      "J.D. Salinger\n",
      "J.K. Rowling\n",
      "J.M. Barrie\n",
      "J.R.R. Tolkien\n",
      "James Baldwin\n",
      "Jane Austen\n",
      "Jim Henson\n",
      "Jimi Hendrix\n",
      "John Lennon\n",
      "Jorge Luis Borges\n",
      "Khaled Hosseini\n",
      "Madeleine L'Engle\n",
      "Marilyn Monroe\n",
      "Mark Twain\n",
      "Martin Luther King Jr.\n",
      "Mother Teresa\n",
      "Pablo Neruda\n",
      "Ralph Waldo Emerson\n",
      "Stephenie Meyer\n",
      "Steve Martin\n",
      "Suzanne Collins\n",
      "Terry Pratchett\n",
      "Thomas A. Edison\n",
      "W.C. Fields\n",
      "William Nicholson\n"
     ]
    }
   ],
   "source": [
    "import requests\n",
    "from bs4 import BeautifulSoup as soup\n",
    "lis=[]\n",
    "for i in range(1,11):\n",
    "    base_url='http://quotes.toscrape.com/page/'+str(i)+'/'\n",
    "    response=requests.get(base_url)\n",
    "    data=soup(response.text,'html.parser')\n",
    "    find=data.find_all(class_='author')\n",
    "    for i in find:\n",
    "        lis.append(i.string)\n",
    "d={}\n",
    "lis.sort()\n",
    "for i in lis:\n",
    "    if i in d:\n",
    "        d[i]+=1\n",
    "    else:\n",
    "        d[i]=1\n",
    "for i in d:\n",
    "    print(i)"
   ]
  },
  {
   "cell_type": "markdown",
   "metadata": {},
   "source": [
    "### Image with maximum area"
   ]
  },
  {
   "cell_type": "code",
   "execution_count": 37,
   "metadata": {},
   "outputs": [
    {
     "name": "stdout",
     "output_type": "stream",
     "text": [
      "//upload.wikimedia.org/wikipedia/commons/thumb/1/13/Joseph_Ayerle_portrait_of_Ornella_Muti_%28detail%29%2C_calculated_by_Artificial_Intelligence_%28AI%29_technology.jpg/220px-Joseph_Ayerle_portrait_of_Ornella_Muti_%28detail%29%2C_calculated_by_Artificial_Intelligence_%28AI%29_technology.jpg\n"
     ]
    }
   ],
   "source": [
    "base_url='https://en.wikipedia.org/wiki/Artificial_intelligence'\n",
    "response=requests.get(base_url)\n",
    "data=soup(response.text,'html.parser')\n",
    "tag=data.find_all('img')\n",
    "max_img=-1\n",
    "url=-1\n",
    "for i in tag:\n",
    "    if int(i['height'])*int(i['width']) >max_img:\n",
    "        max_img =int(i['height'])*int(i['width'])\n",
    "        url=i['src']\n",
    "print(url)\n",
    "    "
   ]
  },
  {
   "cell_type": "markdown",
   "metadata": {},
   "source": [
    "### Quotes by Albert Einstein"
   ]
  },
  {
   "cell_type": "code",
   "execution_count": 47,
   "metadata": {},
   "outputs": [
    {
     "name": "stdout",
     "output_type": "stream",
     "text": [
      "“The world as we have created it is a process of our thinking. It cannot be changed without changing our thinking.”\n",
      "“There are only two ways to live your life. One is as though nothing is a miracle. The other is as though everything is a miracle.”\n",
      "“Try not to become a man of success. Rather become a man of value.”\n",
      "“If you can't explain it to a six year old, you don't understand it yourself.”\n",
      "“If you want your children to be intelligent, read them fairy tales. If you want them to be more intelligent, read them more fairy tales.”\n",
      "“Logic will get you from A to Z; imagination will get you everywhere.”\n",
      "“Any fool can know. The point is to understand.”\n",
      "“Life is like riding a bicycle. To keep your balance, you must keep moving.”\n",
      "“If I were not a physicist, I would probably be a musician. I often think in music. I live my daydreams in music. I see my life in terms of music.”\n",
      "“Anyone who has never made a mistake has never tried anything new.”\n"
     ]
    }
   ],
   "source": [
    "q=[]\n",
    "for i in range(1,11):\n",
    "    base_url='http://quotes.toscrape.com/page/'+str(i)+'/'\n",
    "    response=requests.get(base_url)\n",
    "    data=soup(response.text,'html.parser')\n",
    "    l=data.find_all(class_='quote')\n",
    "    for i in l:\n",
    "        if i.find('small',class_='author').string=='Albert Einstein':\n",
    "            q.append(i.find('span',class_='text').string)\n",
    "for i in q:\n",
    "    print(i)"
   ]
  },
  {
   "cell_type": "markdown",
   "metadata": {},
   "source": [
    "#### Birth Date of authors"
   ]
  },
  {
   "cell_type": "code",
   "execution_count": 63,
   "metadata": {},
   "outputs": [
    {
     "name": "stdout",
     "output_type": "stream",
     "text": [
      "{None: 'August 24, 1899'}\n"
     ]
    }
   ],
   "source": [
    "import requests\n",
    "from bs4 import BeautifulSoup\n",
    "import numpy as np\n",
    "\n",
    "authors=set()\n",
    "\n",
    "for i in range(1,11):\n",
    "    page = 'http://quotes.toscrape.com/page/'+str(i)+'/'\n",
    "    response = requests.get(page)\n",
    "    data = response.text\n",
    "    html_data = BeautifulSoup(data, 'html.parser')\n",
    "    \n",
    "    al = html_data.find_all(class_ = 'author')\n",
    "\n",
    "    for a in al:\n",
    "        auth = a.string.strip()\n",
    "        if auth[0] == 'J':\n",
    "            auth = auth.replace(\" \",\"-\")\n",
    "            auth = auth.replace(\".\",\"-\")\n",
    "            auth = auth.replace(\"--\",\"-\")\n",
    "            authors.add(auth)\n",
    "\n",
    "l = list(authors)\n",
    "\n",
    "d = {}\n",
    "for i in sorted(l):\n",
    "    page = 'http://quotes.toscrape.com/author/' + i + '/'\n",
    "    response = requests.get(page)\n",
    "    data = response.text\n",
    "    html_data = BeautifulSoup(data, 'html.parser')\n",
    "    at = html_data.find(class_ = 'author-title')\n",
    "    ad = html_data.find(class_ = 'author-born-date')\n",
    "    d[at.string] = ad.string\n",
    "    \n",
    "print(d)"
   ]
  },
  {
   "cell_type": "code",
   "execution_count": null,
   "metadata": {},
   "outputs": [],
   "source": []
  },
  {
   "cell_type": "code",
   "execution_count": null,
   "metadata": {},
   "outputs": [],
   "source": []
  }
 ],
 "metadata": {
  "kernelspec": {
   "display_name": "Python 3",
   "language": "python",
   "name": "python3"
  },
  "language_info": {
   "codemirror_mode": {
    "name": "ipython",
    "version": 3
   },
   "file_extension": ".py",
   "mimetype": "text/x-python",
   "name": "python",
   "nbconvert_exporter": "python",
   "pygments_lexer": "ipython3",
   "version": "3.8.5"
  }
 },
 "nbformat": 4,
 "nbformat_minor": 4
}
